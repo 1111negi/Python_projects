{
 "cells": [
  {
   "cell_type": "markdown",
   "metadata": {},
   "source": [
    "\"PROGRAM TO KNOW YOUR IN HAND SALARY AFTER DEDUCTING TAX\""
   ]
  },
  {
   "cell_type": "code",
   "execution_count": 4,
   "metadata": {
    "scrolled": true
   },
   "outputs": [
    {
     "name": "stdout",
     "output_type": "stream",
     "text": [
      "Enter the Expected salary In LAKHS 8\n",
      "\n",
      "The IN-Hand salary is\n",
      "\n",
      "56.666666666666664 K thousand per month\n"
     ]
    }
   ],
   "source": [
    "\n",
    "x=float(input(\"Enter the Expected salary In LAKHS \" ))\n",
    "if x>5 and x<7.5:\n",
    "    c=x-(x*0.1)\n",
    "    print()\n",
    "    print(\"The IN-Hand salary is\")\n",
    "    print()\n",
    "    print((c/12)*100,\"K thousand per month\")\n",
    "elif x>7.5 and x<10:\n",
    "    c=x-(x*0.15)\n",
    "    print()\n",
    "    print(\"The IN-Hand salary is\")\n",
    "    print()\n",
    "    print((c/12)*100,\"K thousand per month\")\n",
    "elif x>10 and x<12.5:\n",
    "    c=x-(x*0.20)\n",
    "    print()\n",
    "    print(\"The IN-Hand salary is\")\n",
    "    print()\n",
    "    print((c/12)*100,\"K thousand per month\")\n",
    "elif x>12.5 and x<15:\n",
    "    c=x-(x*0.25)\n",
    "    print()\n",
    "    print(\"The IN-Hand salary is\")\n",
    "    print()\n",
    "    print((c/12)*100,\"K thousand per month\")\n",
    "else :\n",
    "    c=x-(x*0.30)\n",
    "    print()\n",
    "    print(\"The IN-Hand salary is\")\n",
    "    print()\n",
    "    print((c/12)*100,\"K thousand per month\")\n",
    "    "
   ]
  },
  {
   "cell_type": "code",
   "execution_count": null,
   "metadata": {},
   "outputs": [],
   "source": []
  },
  {
   "cell_type": "code",
   "execution_count": null,
   "metadata": {},
   "outputs": [],
   "source": []
  }
 ],
 "metadata": {
  "kernelspec": {
   "display_name": "Python 3",
   "language": "python",
   "name": "python3"
  },
  "language_info": {
   "codemirror_mode": {
    "name": "ipython",
    "version": 3
   },
   "file_extension": ".py",
   "mimetype": "text/x-python",
   "name": "python",
   "nbconvert_exporter": "python",
   "pygments_lexer": "ipython3",
   "version": "3.9.1"
  }
 },
 "nbformat": 4,
 "nbformat_minor": 4
}
