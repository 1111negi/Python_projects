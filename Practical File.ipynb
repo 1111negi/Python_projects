{
 "cells": [
  {
   "cell_type": "markdown",
   "metadata": {},
   "source": [
    "Q1. Write a program to enter name and display as “Hello, Name”.\n"
   ]
  },
  {
   "cell_type": "code",
   "execution_count": 1,
   "metadata": {},
   "outputs": [
    {
     "name": "stdout",
     "output_type": "stream",
     "text": [
      "Enter Your Name Gaurav Negi\n",
      "Hello,  Gaurav Negi\n"
     ]
    }
   ],
   "source": [
    "x=input(str(\"Enter Your Name \"))\n",
    "print(\"Hello, \",x)"
   ]
  },
  {
   "cell_type": "markdown",
   "metadata": {},
   "source": [
    "Q2. Write a menu driven program to enter two numbers and print the arithmetic operations like\n",
    "a. + b. – c. * d. / e. // f. %."
   ]
  },
  {
   "cell_type": "code",
   "execution_count": 2,
   "metadata": {},
   "outputs": [
    {
     "name": "stdout",
     "output_type": "stream",
     "text": [
      "Press 1 for + Addition\n",
      "Press 2 for - Subtraction\n",
      "Press 3 for * Multiplication\n",
      "Press 4 for / Divison\n",
      "Press 5 for // To find quotient\n",
      "Press 6 for % To find remainder\n",
      "\n",
      "Input the option for arithematic Operation: 3\n",
      "\n",
      "Enter the first number 5\n",
      "Enter the second number 3\n",
      "Answer is  15\n"
     ]
    }
   ],
   "source": [
    "print(\"Press 1 for + Addition\")\n",
    "print(\"Press 2 for - Subtraction\")\n",
    "print(\"Press 3 for * Multiplication\")\n",
    "print(\"Press 4 for / Divison\")\n",
    "print(\"Press 5 for // To find quotient\")\n",
    "print(\"Press 6 for % To find remainder\")\n",
    "print()\n",
    "a=int(input(\"Input the option for arithematic Operation: \"))\n",
    "print()\n",
    "if a==1:\n",
    "    x=int(input(\"Enter the first number \"))\n",
    "    y=int(input(\"Enter the second number \"))\n",
    "    z=x+y\n",
    "    print(\"Answer is \",z)\n",
    "elif a==2:\n",
    "    x=int(input(\"Enter the first number \"))\n",
    "    y=int(input(\"Enter the second number \"))\n",
    "    z=x-y\n",
    "    print(\"Answer is \",z)\n",
    "elif a==3:\n",
    "    x=int(input(\"Enter the first number \"))\n",
    "    y=int(input(\"Enter the second number \"))\n",
    "    z=x*y\n",
    "    print(\"Answer is \",z)\n",
    "elif a==4:\n",
    "    x=int(input(\"Enter the first number \"))\n",
    "    y=int(input(\"Enter the second number \"))\n",
    "    z=(x/y)\n",
    "    print(\"Answer is \",z)\n",
    "elif a==5:\n",
    "    x=int(input(\"Enter the first number \"))\n",
    "    y=int(input(\"Enter the second number \"))\n",
    "    z=(x//y)\n",
    "    print(\"Quotient after divison \",z)\n",
    "elif a==6:\n",
    "    x=int(input(\"Enter the first number \"))\n",
    "    y=int(input(\"Enter the second number \"))\n",
    "    z=(x%y)\n",
    "    print(\"Remainder after divison is \",z)\n",
    "else:\n",
    "    print(\"Invalid Input, Please try again......\")\n",
    "    "
   ]
  },
  {
   "cell_type": "markdown",
   "metadata": {},
   "source": [
    "Q3. To compute the roots of a quadratic equation."
   ]
  },
  {
   "cell_type": "code",
   "execution_count": 3,
   "metadata": {},
   "outputs": [
    {
     "name": "stdout",
     "output_type": "stream",
     "text": [
      "ax^2+bx+c=0\n",
      "Enter the value of a 2\n",
      "Enter the value of b 5\n",
      "Enter the value of c 10\n",
      "\n",
      "2 x^2 + 5 x + 10 =0\n",
      "\n",
      "The roots of the given quadratic equation are (-5+7.416198487095663j)and(-5-7.416198487095663j)\n"
     ]
    }
   ],
   "source": [
    "import cmath\n",
    "print(\"ax^2+bx+c=0\")\n",
    "a=int(input(\"Enter the value of a \"))\n",
    "b=int(input(\"Enter the value of b \"))\n",
    "c=int(input(\"Enter the value of c \"))\n",
    "d=b**2-4*a*c\n",
    "e1=(-b+cmath.sqrt(d))/2*a\n",
    "e2=(-b-cmath.sqrt(d))/2*a \n",
    "print(\"\")\n",
    "print(a,\"x^2 +\",b,\"x +\",c,\"=0\")\n",
    "print(\"\")\n",
    "print(\"The roots of the given quadratic equation are \"+str(e1)+\"and\"+str(e2))"
   ]
  },
  {
   "cell_type": "markdown",
   "metadata": {},
   "source": [
    "Q4. Write a menu driven Program to reverse the entered numbers and print the sum of digits\n",
    "entered."
   ]
  },
  {
   "cell_type": "code",
   "execution_count": 4,
   "metadata": {},
   "outputs": [
    {
     "name": "stdout",
     "output_type": "stream",
     "text": [
      "Press 1 for Reverse order of number\n",
      "Press 2 to find the sum of the digits of number\n",
      "Choose your option: 1\n",
      "enter the number12345\n",
      "Reverse of the number: 54321\n"
     ]
    }
   ],
   "source": [
    "def ADD(n):   \n",
    "    sum = 0\n",
    "    while (n != 0):  \n",
    "        sum = sum + (n % 10) \n",
    "        n = n//10    \n",
    "    return sum\n",
    "\n",
    "print(\"Press 1 for Reverse order of number\")\n",
    "print(\"Press 2 to find the sum of the digits of number\")\n",
    "a=int(input(\"Choose your option: \"))\n",
    "x=int(input(\"enter the number\"))\n",
    "if a==1:\n",
    "    rev=0\n",
    "    while(x>0):\n",
    "        dig=x%10\n",
    "        rev=rev*10+dig\n",
    "        x=x//10\n",
    "    print(\"Reverse of the number:\",rev)\n",
    "elif a==2:\n",
    "    print(\"Some of the digits of the number is \",ADD(x))\n",
    "else:\n",
    "    print(\"Invalid Input\")\n",
    "    \n",
    "                "
   ]
  },
  {
   "cell_type": "markdown",
   "metadata": {},
   "source": [
    "Q5.Write a menu driven Program to enter the number and print whether the number is\n",
    "a. odd or even\n",
    "b. prime."
   ]
  },
  {
   "cell_type": "code",
   "execution_count": 5,
   "metadata": {},
   "outputs": [
    {
     "name": "stdout",
     "output_type": "stream",
     "text": [
      "Press 1 to find whether the number is odd or even\n",
      "Press 2 to find whether the number is prime or not\n",
      "\n",
      "Choose your option: 2\n",
      "\n",
      "Enter the number : 17\n",
      "17 is a prime number\n"
     ]
    }
   ],
   "source": [
    "print(\"Press 1 to find whether the number is odd or even\")\n",
    "print(\"Press 2 to find whether the number is prime or not\")\n",
    "print()\n",
    "a=int(input(\"Choose your option: \"))\n",
    "print()\n",
    "\n",
    "if a==1:\n",
    "    x=int(input(\"Enter the number : \"))\n",
    "    if (x%2==0):\n",
    "        print(x,\" is a even number\")\n",
    "    else:\n",
    "        print(x,\" is a odd number\")\n",
    "elif a==2:\n",
    "    x=int(input(\"Enter the number : \"))\n",
    "    if x>1:\n",
    "        for i in range (2,x):\n",
    "                         if (x%i==0):\n",
    "                            print(x,\" is not a prime number\")\n",
    "                            print(i,\" multiplied by \"+str(x//i)+\" is \" +str(x))\n",
    "                            break\n",
    "                         \n",
    "        else:\n",
    "             print(x,\"is a prime number\")               \n",
    "    else:\n",
    "        print(\"Invalid Input\")\n",
    "else:\n",
    "    print(\"Invalid Input\")\n",
    "            \n",
    "        \n",
    "    "
   ]
  },
  {
   "cell_type": "markdown",
   "metadata": {},
   "source": [
    "Q6.Program to find maximum out of entered 3 numbers"
   ]
  },
  {
   "cell_type": "code",
   "execution_count": 6,
   "metadata": {},
   "outputs": [
    {
     "name": "stdout",
     "output_type": "stream",
     "text": [
      "Enter the first number : 4\n",
      "Enter the second number : 5\n",
      "Enter the third number : 10\n",
      "10 is the greater than 5  and  4\n"
     ]
    }
   ],
   "source": [
    "#First method using if elif else loop\n",
    "x=int(input(\"Enter the first number : \"))\n",
    "y=int(input(\"Enter the second number : \"))\n",
    "z=int(input(\"Enter the third number : \"))\n",
    "if (x>y) and (x>z):\n",
    "    print(x,\"is the greater than\",y,\" and \",z)\n",
    "elif (y>z) and (y>x):\n",
    "    print(y,\"is the greater than\",x,\" and \",z)\n",
    "else:\n",
    "    print(z,\"is the greater than\",y,\" and \",x)"
   ]
  },
  {
   "cell_type": "code",
   "execution_count": 7,
   "metadata": {},
   "outputs": [
    {
     "name": "stdout",
     "output_type": "stream",
     "text": [
      "Enter the first number : 1\n",
      "Enter the second number : 2\n",
      "Enter the third number : 5\n",
      "The greatest of the three numbers is  5\n"
     ]
    }
   ],
   "source": [
    "#second method using built in function max\n",
    "x=int(input(\"Enter the first number : \"))\n",
    "y=int(input(\"Enter the second number : \"))\n",
    "z=int(input(\"Enter the third number : \"))\n",
    "\n",
    "print(\"The greatest of the three numbers is \",max(x,y,z))"
   ]
  },
  {
   "cell_type": "markdown",
   "metadata": {},
   "source": [
    "Q7.Write a program to display ASCII code of a character and vice versa."
   ]
  },
  {
   "cell_type": "code",
   "execution_count": 8,
   "metadata": {},
   "outputs": [
    {
     "name": "stdout",
     "output_type": "stream",
     "text": [
      "Press 1 to find The ASCII value of char\n",
      "Press 2 to find Character from ASCII value\n",
      "\n",
      "Choose your option: 1\n",
      "Enter any character: A\n",
      "The ASCII value of char A is:  65\n"
     ]
    }
   ],
   "source": [
    "\n",
    "print(\"Press 1 to find The ASCII value of char\")\n",
    "print(\"Press 2 to find Character from ASCII value\")\n",
    "print()\n",
    "a=int(input(\"Choose your option: \"))\n",
    "\n",
    "if a==1:\n",
    "    ch = input(\"Enter any character: \")\n",
    "    print(\"The ASCII value of char \" + ch + \" is: \",ord(ch))\n",
    "\n",
    "elif a==2:\n",
    "    num = int(input(\"Enter ASCII value: \"))\n",
    "    print(\"The character is\",chr(num))\n",
    "else:\n",
    "    print(\"Invalid Input\")"
   ]
  },
  {
   "cell_type": "markdown",
   "metadata": {},
   "source": [
    "Q8.Write a Program to check if the entered number is Armstrong or not."
   ]
  },
  {
   "cell_type": "code",
   "execution_count": 9,
   "metadata": {},
   "outputs": [
    {
     "name": "stdout",
     "output_type": "stream",
     "text": [
      "Enter a number: 3\n",
      "3 is not an Armstrong number\n"
     ]
    }
   ],
   "source": [
    "x= int(input(\"Enter a number: \"))\n",
    "\n",
    "# initialize sum\n",
    "sum = 0\n",
    "\n",
    "# find the sum of the cube of each digit\n",
    "temp = x\n",
    "while temp > 0:\n",
    "   digit = temp % 10\n",
    "   sum += digit ** 3\n",
    "   temp //= 10\n",
    "\n",
    "# display the result\n",
    "if x == sum:\n",
    "   print(x,\"is an Armstrong number\")\n",
    "else:\n",
    "   print(x,\"is not an Armstrong number\")"
   ]
  },
  {
   "cell_type": "markdown",
   "metadata": {},
   "source": [
    "Q9.Write a Program to find factorial of the entered number using recursion."
   ]
  },
  {
   "cell_type": "code",
   "execution_count": 10,
   "metadata": {},
   "outputs": [
    {
     "name": "stdout",
     "output_type": "stream",
     "text": [
      "Enter a number: 5\n",
      "The factorial of  5  is  120\n"
     ]
    }
   ],
   "source": [
    "def factorial(n):\n",
    "   if n == 1:\n",
    "       return n\n",
    "   else:\n",
    "       return n*factorial(n-1)\n",
    "\n",
    "x= int(input(\"Enter a number: \"))\n",
    "\n",
    "if x < 0:\n",
    "   print(\"Sorry, factorial does not exist for negative numbers\")\n",
    "elif x == 0:\n",
    "   print(\"The factorial of 0 is 1\")\n",
    "else:\n",
    "   print(\"The factorial of \", x, \" is \", factorial(x))"
   ]
  },
  {
   "cell_type": "markdown",
   "metadata": {},
   "source": [
    "Q10.Write a Program to enter the number of terms and to print the Fibonacci Series."
   ]
  },
  {
   "cell_type": "code",
   "execution_count": 11,
   "metadata": {},
   "outputs": [
    {
     "name": "stdout",
     "output_type": "stream",
     "text": [
      "How many terms?: 5\n",
      "Fibonacci sequence:\n",
      "0\n",
      "1\n",
      "1\n",
      "2\n",
      "3\n"
     ]
    }
   ],
   "source": [
    "\n",
    "x= int(input(\"How many terms?: \"))\n",
    "a,b=0,1\n",
    "c=0\n",
    "if x<=0:\n",
    "    print(\"Invalid input,Please enter a positive integer\")\n",
    "elif x==1:\n",
    "    print(\"Fibonacci sequence upto\",x,\"term :\")\n",
    "    print(a)\n",
    "else:\n",
    "    print(\"Fibonacci sequence:\")\n",
    "    while c<x:\n",
    "        print(a)\n",
    "        y=a+b\n",
    "        #updating the values\n",
    "        a=b\n",
    "        b=y\n",
    "        c=c+1"
   ]
  },
  {
   "cell_type": "markdown",
   "metadata": {},
   "source": [
    "Q11.Write a program to enter the numbers and to print greatest number using loop."
   ]
  },
  {
   "cell_type": "code",
   "execution_count": 12,
   "metadata": {},
   "outputs": [
    {
     "name": "stdout",
     "output_type": "stream",
     "text": [
      "Enter how many no. you want to check : 2\n",
      "Enter the first number: 10\n",
      "Enter the 2 number : 25\n",
      "The greatest number is  25\n"
     ]
    }
   ],
   "source": [
    "x=int(input(\"Enter how many no. you want to check : \"))\n",
    "y=int(input(\"Enter the first number: \"))\n",
    "for i in range(2,x+1):\n",
    "    z=int(input(\"Enter the %i number : \"%i))\n",
    "    if z>y :\n",
    "        y=z\n",
    "print(\"The greatest number is \",y)\n"
   ]
  },
  {
   "cell_type": "markdown",
   "metadata": {},
   "source": [
    "Q12 Write a program to enter the string and to check if it’s Palindrome  exist or not using loop"
   ]
  },
  {
   "cell_type": "code",
   "execution_count": 13,
   "metadata": {},
   "outputs": [
    {
     "name": "stdout",
     "output_type": "stream",
     "text": [
      "Enter the string to check for Palindrome: Dad\n",
      "Yes dad  is a plaindrome\n"
     ]
    }
   ],
   "source": [
    "a=str(input(\"Enter the string to check for Palindrome: \"))\n",
    "a=a.lower()\n",
    "b=a[::-1]\n",
    "if str(a)==str(b):\n",
    "    print(\"Yes\",a,\" is a plaindrome\")\n",
    "else:\n",
    "    print(\"No\",a,\" is not a plaindrome\")\n",
    "    "
   ]
  },
  {
   "cell_type": "markdown",
   "metadata": {},
   "source": [
    "Q13 Write a program to enter 5 subject’s  marks and print the grades A/B/C/D/E"
   ]
  },
  {
   "cell_type": "code",
   "execution_count": 14,
   "metadata": {},
   "outputs": [
    {
     "name": "stdout",
     "output_type": "stream",
     "text": [
      "Enter marks of  python : 85\n",
      "Enter marks of  inventory management : 95\n",
      "Enter marks of  statistics : 90\n",
      "Enter marks of  queuing : 80\n",
      "Enter marks of  LPP : 85\n",
      "Grade: B  87.0 %\n"
     ]
    }
   ],
   "source": [
    "s1=int(input(\"Enter marks of  python : \"))\n",
    "s2=int(input(\"Enter marks of  inventory management : \"))\n",
    "s3=int(input(\"Enter marks of  statistics : \"))\n",
    "s4=int(input(\"Enter marks of  queuing : \"))\n",
    "s5=int(input(\"Enter marks of  LPP : \"))\n",
    "x=(s1+s2+s3+s4+s5)/5\n",
    "if(x>=90):\n",
    "    print(\"Grade: A \", x,\"%\")\n",
    "elif(x>=80 and x<90):\n",
    "    print(\"Grade: B \", x,\"%\")\n",
    "elif(x>=70 and x<80):\n",
    "    print(\"Grade: C \", x,\"%\")\n",
    "elif(x>=60 and x<70):\n",
    "    print(\"Grade: D \", x,\"%\")\n",
    "else:\n",
    "    print(\"Grade: F \", x,\"%\",\" FAIL\")\n",
    "    print(\"passing citeria is 60% marks\")\n"
   ]
  },
  {
   "cell_type": "markdown",
   "metadata": {},
   "source": [
    "Q14 Write a program in python language to display the  given pattern:\n",
    "#         5\n",
    "#       45\n",
    "#     345\n",
    "#   2345\n",
    "# 12345 \n"
   ]
  },
  {
   "cell_type": "code",
   "execution_count": 15,
   "metadata": {},
   "outputs": [
    {
     "name": "stdout",
     "output_type": "stream",
     "text": [
      "    5\n",
      "\n",
      "   45\n",
      "\n",
      "  345\n",
      "\n",
      " 2345\n",
      "\n",
      "12345\n",
      "\n"
     ]
    }
   ],
   "source": [
    "str=\" \"\n",
    "for i in range(1,6):\n",
    "    c=5-i\n",
    "    print(str*c,end=\"\")\n",
    "    for j in range(6-i,6):\n",
    "        print(j,end=\"\")\n",
    "    print(\"\\n\")\n"
   ]
  },
  {
   "cell_type": "markdown",
   "metadata": {},
   "source": [
    " Q15. Write a python  function sin(x,n) to calculate the value of sin(x) using its Taylor series expansion upto n terms.\n",
    "       Sin(x)= x- x3 +   x5 – x7 + …….\n",
    "                  3!     5!   7!\n"
   ]
  },
  {
   "cell_type": "code",
   "execution_count": 16,
   "metadata": {},
   "outputs": [
    {
     "name": "stdout",
     "output_type": "stream",
     "text": [
      "to find the expansion of sin(x,n)\n",
      "enter the value of x in degree:  45\n",
      "enter the value of n:  2\n",
      "0.7\n"
     ]
    }
   ],
   "source": [
    "import math\n",
    "def sin(x,n):\n",
    "    sine=0\n",
    "    for i in range(n):\n",
    "        sign=(-1)**i\n",
    "        pi=22/7\n",
    "        a=x*(pi/180)\n",
    "        sine=sine+((a**(2.0*i+1))/math.factorial(2*i+1))*sign\n",
    "    return sine\n",
    "print (\"to find the expansion of sin(x,n)\")\n",
    "x=float(input(\"enter the value of x in degree:  \"))\n",
    "n=int(input(\"enter the value of n:  \"))\n",
    "print(round(sin(x,n),2))\n"
   ]
  },
  {
   "cell_type": "markdown",
   "metadata": {},
   "source": [
    "Q16.Write a Program to determine EOQ using various inventory models\n",
    " EOQ model, Inventory system\n"
   ]
  },
  {
   "cell_type": "code",
   "execution_count": 17,
   "metadata": {},
   "outputs": [
    {
     "name": "stdout",
     "output_type": "stream",
     "text": [
      "Enter ordering cost : 500\n",
      "Enter demand : 10000\n",
      "Enter inventory  cost : 50\n",
      "Optimum lot size is : 447.21359549995793\n",
      "Total variable  cost is :  3162.2776601683795\n"
     ]
    }
   ],
   "source": [
    "class EOQ:\n",
    "    def __init__(Q,ordering_cost,demand,inventory_cost):\n",
    "        Q.ordering_cost = ordering_cost\n",
    "        Q.demand = demand\n",
    "        Q.inventory_cost = inventory_cost\n",
    "    def model(Q):\n",
    "        print( \"Optimum lot size is :\" ,(2*Q.ordering_cost*Q.demand/Q.inventory_cost)**0.5)\n",
    "        print(\"Total variable  cost is : \", (2*Q.ordering_cost*Q.demand)**0.5)\n",
    "\n",
    "\n",
    "\n",
    "\n",
    "ordering_cost = float(input(\"Enter ordering cost : \"))\n",
    "demand = float(input(\"Enter demand : \"))\n",
    "inventory_cost = float(input(\"Enter inventory  cost : \"))\n",
    "obj1 = EOQ(ordering_cost,demand,inventory_cost)\n",
    "obj1.model()\n"
   ]
  },
  {
   "cell_type": "code",
   "execution_count": null,
   "metadata": {},
   "outputs": [],
   "source": []
  },
  {
   "cell_type": "code",
   "execution_count": null,
   "metadata": {},
   "outputs": [],
   "source": []
  },
  {
   "cell_type": "markdown",
   "metadata": {},
   "source": [
    "Q18. Write a Program to implement Inheritance. Create a class Employee inherit two classes Manager and Clerk from Employee"
   ]
  },
  {
   "cell_type": "code",
   "execution_count": 18,
   "metadata": {},
   "outputs": [
    {
     "name": "stdout",
     "output_type": "stream",
     "text": [
      "1.Senior Associate\n",
      "2.Junior Associate\n",
      "1\n",
      "Enter the name of Employee: Gaurav Negi\n",
      "Enter the age of Employee: 23\n",
      "Enter the basic salary: 750000\n",
      "Name:  Gaurav Negi\n",
      "Age:  23\n",
      "Title:  Senior\n",
      "Basic salary:  750000\n"
     ]
    }
   ],
   "source": [
    "class Employee:\n",
    "    def __init__(self):\n",
    "        self.name=\"\"\n",
    "        self.age=\"\"\n",
    "\n",
    "    def takeinput(self):\n",
    "        name=input(\"Enter the name of Employee: \")\n",
    "        age=int(input(\"Enter the age of Employee: \"))\n",
    "        self.name=name\n",
    "        self.age=age\n",
    "\n",
    "    def result(self):\n",
    "        print (\"Name: \",self.name)\n",
    "        print(\"Age: \",self.age)\n",
    "\n",
    "class Senior(Employee):\n",
    "    def __init__(self):\n",
    "        Employee.__init__(self)\n",
    "        self.title= \"Senior\"\n",
    "        self.basic_sal= 0\n",
    "\n",
    "    def takeinput(self):\n",
    "        Employee.takeinput(self)\n",
    "        self.basic_sal= int(input(\"Enter the basic salary: \"))\n",
    "    def result(self):\n",
    "        Employee.result(self)\n",
    "        print(\"Title: \",self.title)\n",
    "        print(\"Basic salary: \",self.basic_sal)\n",
    "        self.total_salary()\n",
    "\n",
    "    def total_salary(self):\n",
    "        bonus=0\n",
    "        if self.basic_sal>=30000:\n",
    "            bonus= 0.2*self.basic_sal\n",
    "        elif self.basic_sal>20000:\n",
    "            bonus=0.1*self.basic_sal\n",
    "            print(\"Total salary of employee is: \",(self.basic_sal+bonus))\n",
    "\n",
    "class Junior(Employee):\n",
    "    def __init__(self):\n",
    "        Employee.__init__(self)\n",
    "        self.title= \"Clerk\"\n",
    "        self.basic_sal= 0\n",
    "\n",
    "    def takeinput(self):\n",
    "        Employee.takeinput(self)\n",
    "        self.basic_sal= int(input(\"Enter the basic salary: \"))\n",
    "\n",
    "    def result(self):\n",
    "        Employee.result(self)\n",
    "        print(\"Title: \",self.title)\n",
    "        print(\"Basic salary: \",self.basic_sal)\n",
    "        self.total_salary()\n",
    "\n",
    "    def total_salary(self):\n",
    "        bonus=0\n",
    "        if self.basic_sal>=15000:\n",
    "            bonus= 0.15*self.basic_sal\n",
    "        elif self.basic_sal>10000:\n",
    "            bonus=0.07*self.basic_sal\n",
    "        print(\"Total salary of employee is: \",(self.basic_sal+bonus))\n",
    "\n",
    "choice=int(input(\"1.Senior Associate\\n2.Junior Associate\\n\"))\n",
    "if(choice==1):\n",
    "    s=Senior()\n",
    "    s.takeinput()\n",
    "    s.result()\n",
    "elif(choice==2):\n",
    "    j=Junior()\n",
    "    j.takeinput()\n",
    "    j.result()\n",
    "else:\n",
    "     print(\"Invalid Choice\")"
   ]
  },
  {
   "cell_type": "markdown",
   "metadata": {},
   "source": [
    "19.Program to fit Poisson distribution on a given data\n"
   ]
  },
  {
   "cell_type": "code",
   "execution_count": 19,
   "metadata": {},
   "outputs": [
    {
     "data": {
      "image/png": "[encoded data removed]",
      "text/plain": [
       "<Figure size 432x288 with 1 Axes>"
      ]
     },
     "metadata": {
      "needs_background": "light"
     },
     "output_type": "display_data"
    }
   ],
   "source": [
    "#Python program to fit poisson distribution on a given data.\n",
    "import numpy as np\n",
    "import matplotlib.pyplot as plt \n",
    "x = np.random.poisson(10,10000)\n",
    "plt.hist(x, 16, density= True,color='b')\n",
    "plt.title(\"Probability density function of Poisson distribution\")\n",
    "plt.ylabel(\"Probability\")\n",
    "plt.xlabel(\"Number of events\")\n",
    "plt.show()\n"
   ]
  },
  {
   "cell_type": "markdown",
   "metadata": {},
   "source": [
    "20.Write a program to implement linear regression using python."
   ]
  },
  {
   "cell_type": "code",
   "execution_count": 20,
   "metadata": {},
   "outputs": [
    {
     "name": "stdout",
     "output_type": "stream",
     "text": [
      "Slope: [[2.93655106]]\n",
      "Intercept: [2.55808002]\n",
      "Root mean squared error:  0.07623324582875007\n"
     ]
    },
    {
     "data": {
      "image/png": "[encoded data removed]",
      "text/plain": [
       "<Figure size 432x288 with 1 Axes>"
      ]
     },
     "metadata": {
      "needs_background": "light"
     },
     "output_type": "display_data"
    }
   ],
   "source": [
    "#Python program to implement linear regression \n",
    "import numpy as np\n",
    "import matplotlib.pyplot as plt\n",
    "from sklearn.linear_model import LinearRegression\n",
    "from sklearn.metrics import mean_squared_error\n",
    "# generate random data-set\n",
    "np.random.seed(0)\n",
    "x = np.random.rand(100, 1)\n",
    "y = 2 + 3 * x + np.random.rand(100, 1)\n",
    "\n",
    "# Model initialization\n",
    "regression_model = LinearRegression()\n",
    "# Fit the data(train the model)\n",
    "regression_model.fit(x, y)\n",
    "# Predict\n",
    "y_predicted = regression_model.predict(x)\n",
    "\n",
    "# model evaluation\n",
    "rmse = mean_squared_error(y, y_predicted)\n",
    "\n",
    "\n",
    "# printing values\n",
    "print('Slope:' ,regression_model.coef_)\n",
    "print('Intercept:', regression_model.intercept_)\n",
    "print('Root mean squared error: ', rmse)\n",
    "# plotting values\n",
    "# data points\n",
    "plt.scatter(x, y, s=10)\n",
    "plt.xlabel('x')\n",
    "plt.ylabel('y')\n",
    "\n",
    "# predicted values\n",
    "plt.plot(x, y_predicted, color='b')\n",
    "plt.title(\"Linear Regression\")\n",
    "plt.xlabel(\"X values\")\n",
    "plt.ylabel(\"Y values\")\n",
    "plt.show()\n"
   ]
  },
  {
   "cell_type": "markdown",
   "metadata": {},
   "source": [
    "21. Write a program to perform read and write operation with .csv file"
   ]
  },
  {
   "cell_type": "code",
   "execution_count": 2,
   "metadata": {},
   "outputs": [
    {
     "ename": "SyntaxError",
     "evalue": "invalid syntax (<ipython-input-2-057cdda54967>, line 9)",
     "output_type": "error",
     "traceback": [
      "\u001b[1;36m  File \u001b[1;32m\"<ipython-input-2-057cdda54967>\"\u001b[1;36m, line \u001b[1;32m9\u001b[0m\n\u001b[1;33m    fields = ['Name', 'Branch', 'Year', 'CGPA']\u001b[0m\n\u001b[1;37m    ^\u001b[0m\n\u001b[1;31mSyntaxError\u001b[0m\u001b[1;31m:\u001b[0m invalid syntax\n"
     ]
    }
   ],
   "source": [
    "import csv\n",
    "print(\"data in Reading File:\")\n",
    "with open('data.csv','rt')as f:\n",
    "    data = csv.reader(f)\n",
    "    for row in data:\n",
    "         print(row)\n",
    "with open('writeData.csv', mode='w') as fp:\n",
    "    writer = csv.writer(fp, delimiter=',', quotechar='\"', quoting=csv.QUOTE_MIN\n",
    "    fields = ['Name', 'Branch', 'Year', 'CGPA']\n",
    "    writer.writerow(fields)\n",
    "\n",
    "print(\"data in Writing File:\")\n",
    "with open('writeData.csv','rt')as f1:\n",
    "     data1 = csv.reader(f1)\n",
    "     for row in data1:\n",
    "         print(row)"
   ]
  },
  {
   "cell_type": "markdown",
   "metadata": {},
   "source": [
    "22.. Write a Program to enter multiple values-based data in multiple columns/rows and show that data in python using DataFrames and pandas."
   ]
  },
  {
   "cell_type": "code",
   "execution_count": 22,
   "metadata": {},
   "outputs": [
    {
     "name": "stdout",
     "output_type": "stream",
     "text": [
      "    Name  Birth year\n",
      "0    Ram        1997\n",
      "1  Joshi        1996\n",
      "2   Negi        1997\n",
      "3   Rana        2000\n"
     ]
    }
   ],
   "source": [
    "import pandas as pd \n",
    "\n",
    "data = {'Name' :['Ram','Joshi','Negi','Rana'],\n",
    "       'Birth year':[1997,1996,1997,2000]}\n",
    "\n",
    "#Dataframe\n",
    "sh = pd.DataFrame(data)\n",
    "\n",
    "#print \n",
    "print(sh)\n"
   ]
  },
  {
   "cell_type": "markdown",
   "metadata": {},
   "source": [
    "Q23. WAP in python to perform various statistical measures using pandas. "
   ]
  },
  {
   "cell_type": "code",
   "execution_count": 23,
   "metadata": {},
   "outputs": [
    {
     "data": {
      "text/html": [
       "<div>\n",
       "<style scoped>\n",
       "    .dataframe tbody tr th:only-of-type {\n",
       "        vertical-align: middle;\n",
       "    }\n",
       "\n",
       "    .dataframe tbody tr th {\n",
       "        vertical-align: top;\n",
       "    }\n",
       "\n",
       "    .dataframe thead th {\n",
       "        text-align: right;\n",
       "    }\n",
       "</style>\n",
       "<table border=\"1\" class=\"dataframe\">\n",
       "  <thead>\n",
       "    <tr style=\"text-align: right;\">\n",
       "      <th></th>\n",
       "      <th>Category</th>\n",
       "      <th>Item -code</th>\n",
       "      <th>Annual Demand of the components in numbers</th>\n",
       "      <th>Unit price in Rupees (Rs)</th>\n",
       "      <th>Total</th>\n",
       "      <th>Percentage value</th>\n",
       "      <th>percentage in quatity</th>\n",
       "    </tr>\n",
       "  </thead>\n",
       "  <tbody>\n",
       "    <tr>\n",
       "      <th>0</th>\n",
       "      <td>A</td>\n",
       "      <td>ASMB-R122</td>\n",
       "      <td>525070.0</td>\n",
       "      <td>441.0</td>\n",
       "      <td>231555870.0</td>\n",
       "      <td>7.46498%</td>\n",
       "      <td>3.06941%</td>\n",
       "    </tr>\n",
       "    <tr>\n",
       "      <th>1</th>\n",
       "      <td>A</td>\n",
       "      <td>ASMB-R75</td>\n",
       "      <td>653150.0</td>\n",
       "      <td>302.4</td>\n",
       "      <td>197512560.0</td>\n",
       "      <td>6.36748%</td>\n",
       "      <td>3.81813%</td>\n",
       "    </tr>\n",
       "    <tr>\n",
       "      <th>2</th>\n",
       "      <td>A</td>\n",
       "      <td>ASMB-R52</td>\n",
       "      <td>464655.0</td>\n",
       "      <td>367.5</td>\n",
       "      <td>170760712.5</td>\n",
       "      <td>5.50505%</td>\n",
       "      <td>2.71624%</td>\n",
       "    </tr>\n",
       "    <tr>\n",
       "      <th>3</th>\n",
       "      <td>A</td>\n",
       "      <td>ASMB-R105</td>\n",
       "      <td>307619.0</td>\n",
       "      <td>504.0</td>\n",
       "      <td>155039976.0</td>\n",
       "      <td>4.99824%</td>\n",
       "      <td>1.79825%</td>\n",
       "    </tr>\n",
       "    <tr>\n",
       "      <th>4</th>\n",
       "      <td>A</td>\n",
       "      <td>ASMB-R5</td>\n",
       "      <td>578000.0</td>\n",
       "      <td>252.0</td>\n",
       "      <td>145656000.0</td>\n",
       "      <td>4.69571%</td>\n",
       "      <td>3.37882%</td>\n",
       "    </tr>\n",
       "  </tbody>\n",
       "</table>\n",
       "</div>"
      ],
      "text/plain": [
       "  Category Item -code  Annual Demand of the components in numbers  \\\n",
       "0        A  ASMB-R122                                    525070.0   \n",
       "1        A   ASMB-R75                                    653150.0   \n",
       "2        A   ASMB-R52                                    464655.0   \n",
       "3        A  ASMB-R105                                    307619.0   \n",
       "4        A    ASMB-R5                                    578000.0   \n",
       "\n",
       "   Unit price in Rupees (Rs)        Total Percentage value  \\\n",
       "0                      441.0  231555870.0         7.46498%   \n",
       "1                      302.4  197512560.0         6.36748%   \n",
       "2                      367.5  170760712.5         5.50505%   \n",
       "3                      504.0  155039976.0         4.99824%   \n",
       "4                      252.0  145656000.0         4.69571%   \n",
       "\n",
       "  percentage in quatity  \n",
       "0              3.06941%  \n",
       "1              3.81813%  \n",
       "2              2.71624%  \n",
       "3              1.79825%  \n",
       "4              3.37882%  "
      ]
     },
     "execution_count": 23,
     "metadata": {},
     "output_type": "execute_result"
    }
   ],
   "source": [
    "import pandas as pd\n",
    "import numpy as np\n",
    "data = pd.read_csv(\"inventory.csv\")\n",
    "data.head()\n"
   ]
  },
  {
   "cell_type": "code",
   "execution_count": 24,
   "metadata": {},
   "outputs": [
    {
     "data": {
      "text/plain": [
       "(141, 7)"
      ]
     },
     "execution_count": 24,
     "metadata": {},
     "output_type": "execute_result"
    }
   ],
   "source": [
    "data.shape"
   ]
  },
  {
   "cell_type": "code",
   "execution_count": 25,
   "metadata": {},
   "outputs": [
    {
     "data": {
      "text/plain": [
       "Index(['Category', 'Item -code', 'Annual Demand of the components in numbers',\n",
       "       'Unit price in Rupees (Rs)', 'Total', 'Percentage value',\n",
       "       'percentage in quatity'],\n",
       "      dtype='object')"
      ]
     },
     "execution_count": 25,
     "metadata": {},
     "output_type": "execute_result"
    }
   ],
   "source": [
    "data.columns"
   ]
  },
  {
   "cell_type": "code",
   "execution_count": 26,
   "metadata": {},
   "outputs": [
    {
     "data": {
      "text/html": [
       "<div>\n",
       "<style scoped>\n",
       "    .dataframe tbody tr th:only-of-type {\n",
       "        vertical-align: middle;\n",
       "    }\n",
       "\n",
       "    .dataframe tbody tr th {\n",
       "        vertical-align: top;\n",
       "    }\n",
       "\n",
       "    .dataframe thead th {\n",
       "        text-align: right;\n",
       "    }\n",
       "</style>\n",
       "<table border=\"1\" class=\"dataframe\">\n",
       "  <thead>\n",
       "    <tr style=\"text-align: right;\">\n",
       "      <th></th>\n",
       "      <th>Annual Demand of the components in numbers</th>\n",
       "      <th>Unit price in Rupees (Rs)</th>\n",
       "      <th>Total</th>\n",
       "    </tr>\n",
       "  </thead>\n",
       "  <tbody>\n",
       "    <tr>\n",
       "      <th>count</th>\n",
       "      <td>140.000000</td>\n",
       "      <td>140.000000</td>\n",
       "      <td>1.400000e+02</td>\n",
       "    </tr>\n",
       "    <tr>\n",
       "      <th>mean</th>\n",
       "      <td>122189.614286</td>\n",
       "      <td>219.091714</td>\n",
       "      <td>2.215638e+07</td>\n",
       "    </tr>\n",
       "    <tr>\n",
       "      <th>std</th>\n",
       "      <td>175225.425913</td>\n",
       "      <td>172.998046</td>\n",
       "      <td>4.043972e+07</td>\n",
       "    </tr>\n",
       "    <tr>\n",
       "      <th>min</th>\n",
       "      <td>162.000000</td>\n",
       "      <td>1.500000</td>\n",
       "      <td>1.485000e+04</td>\n",
       "    </tr>\n",
       "    <tr>\n",
       "      <th>25%</th>\n",
       "      <td>12080.000000</td>\n",
       "      <td>60.750000</td>\n",
       "      <td>1.365523e+06</td>\n",
       "    </tr>\n",
       "    <tr>\n",
       "      <th>50%</th>\n",
       "      <td>52940.000000</td>\n",
       "      <td>203.760000</td>\n",
       "      <td>5.501187e+06</td>\n",
       "    </tr>\n",
       "    <tr>\n",
       "      <th>75%</th>\n",
       "      <td>150201.250000</td>\n",
       "      <td>315.450000</td>\n",
       "      <td>2.067239e+07</td>\n",
       "    </tr>\n",
       "    <tr>\n",
       "      <th>max</th>\n",
       "      <td>931130.000000</td>\n",
       "      <td>959.400000</td>\n",
       "      <td>2.315559e+08</td>\n",
       "    </tr>\n",
       "  </tbody>\n",
       "</table>\n",
       "</div>"
      ],
      "text/plain": [
       "       Annual Demand of the components in numbers  Unit price in Rupees (Rs)  \\\n",
       "count                                  140.000000                 140.000000   \n",
       "mean                                122189.614286                 219.091714   \n",
       "std                                 175225.425913                 172.998046   \n",
       "min                                    162.000000                   1.500000   \n",
       "25%                                  12080.000000                  60.750000   \n",
       "50%                                  52940.000000                 203.760000   \n",
       "75%                                 150201.250000                 315.450000   \n",
       "max                                 931130.000000                 959.400000   \n",
       "\n",
       "              Total  \n",
       "count  1.400000e+02  \n",
       "mean   2.215638e+07  \n",
       "std    4.043972e+07  \n",
       "min    1.485000e+04  \n",
       "25%    1.365523e+06  \n",
       "50%    5.501187e+06  \n",
       "75%    2.067239e+07  \n",
       "max    2.315559e+08  "
      ]
     },
     "execution_count": 26,
     "metadata": {},
     "output_type": "execute_result"
    }
   ],
   "source": [
    "data.describe()"
   ]
  },
  {
   "cell_type": "code",
   "execution_count": 27,
   "metadata": {},
   "outputs": [
    {
     "name": "stdout",
     "output_type": "stream",
     "text": [
      "<class 'pandas.core.frame.DataFrame'>\n",
      "RangeIndex: 141 entries, 0 to 140\n",
      "Data columns (total 7 columns):\n",
      " #   Column                                      Non-Null Count  Dtype  \n",
      "---  ------                                      --------------  -----  \n",
      " 0   Category                                    140 non-null    object \n",
      " 1   Item -code                                  140 non-null    object \n",
      " 2   Annual Demand of the components in numbers  140 non-null    float64\n",
      " 3   Unit price in Rupees (Rs)                   140 non-null    float64\n",
      " 4   Total                                       140 non-null    float64\n",
      " 5   Percentage value                            140 non-null    object \n",
      " 6   percentage in quatity                       140 non-null    object \n",
      "dtypes: float64(3), object(4)\n",
      "memory usage: 7.8+ KB\n"
     ]
    }
   ],
   "source": [
    "data.info()"
   ]
  },
  {
   "cell_type": "markdown",
   "metadata": {},
   "source": [
    "24.Write a program to plot a bar chart in python to display the result of a school for five consecutive years."
   ]
  },
  {
   "cell_type": "code",
   "execution_count": 28,
   "metadata": {},
   "outputs": [
    {
     "data": {
      "image/png": "[encoded data removed]",
      "text/plain": [
       "<Figure size 432x288 with 1 Axes>"
      ]
     },
     "metadata": {
      "needs_background": "light"
     },
     "output_type": "display_data"
    }
   ],
   "source": [
    "import matplotlib.pyplot as plt\n",
    "year = ['2010','2011','2012','2013','2014']\n",
    "result = [75,90,85,95,85]\n",
    "plt.plot(year, result)\n",
    "plt.xlabel('Year')\n",
    "plt.ylabel('Result')\n",
    "plt.title(\"Bar chart\")\n",
    "plt.show() "
   ]
  },
  {
   "cell_type": "markdown",
   "metadata": {},
   "source": [
    "25. Write a program in python to plot a graph for the function y = x²"
   ]
  },
  {
   "cell_type": "code",
   "execution_count": 29,
   "metadata": {},
   "outputs": [
    {
     "data": {
      "image/png": "[encoded data removed]",
      "text/plain": [
       "<Figure size 432x288 with 1 Axes>"
      ]
     },
     "metadata": {
      "needs_background": "light"
     },
     "output_type": "display_data"
    }
   ],
   "source": [
    "import matplotlib.pyplot as plt\n",
    "import numpy as np\n",
    "x = np.linspace(-25, 25, 500)\n",
    "y = x**2\n",
    "fig,ax = plt.subplots()\n",
    "ax.plot(x, y)\n",
    "plt.show() "
   ]
  },
  {
   "cell_type": "code",
   "execution_count": null,
   "metadata": {},
   "outputs": [],
   "source": []
  }
 ],
 "metadata": {
  "kernelspec": {
   "display_name": "Python 3",
   "language": "python",
   "name": "python3"
  },
  "language_info": {
   "codemirror_mode": {
    "name": "ipython",
    "version": 3
   },
   "file_extension": ".py",
   "mimetype": "text/x-python",
   "name": "python",
   "nbconvert_exporter": "python",
   "pygments_lexer": "ipython3",
   "version": "3.9.1"
  }
 },
 "nbformat": 4,
 "nbformat_minor": 4
}
