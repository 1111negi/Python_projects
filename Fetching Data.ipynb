{
 "cells": [
  {
   "cell_type": "code",
   "execution_count": 71,
   "metadata": {},
   "outputs": [],
   "source": [
    "#For fetching data from the URL'S\n",
    "\n",
    "import pandas as pd\n",
    "import requests\n",
    "from bs4 import BeautifulSoup\n",
    "df= pd.read_csv('input.csv')\n",
    "x = list(df['URL_ID'])\n",
    "y = list(df['URL'])\n",
    "\n",
    "\n",
    "for q ,z in zip(y,x):\n",
    "    \n",
    "    #fetching data from url\n",
    "    \n",
    "    headers = { \n",
    "    'User-Agent':\"Mozilla/5.0 (Windows NT 10.0; Win64; x64) AppleWebKit/537.36 (KHTML, like Gecko) Chrome/97.0.4692.71 Safari/537.36\"\n",
    "          }\n",
    "    r=requests.get(q,headers=headers)\n",
    "    soup = BeautifulSoup(r.content,'html.parser')\n",
    "    article=soup.find_all(attrs = {'class':'td-post-content'})\n",
    "    title=soup.find_all('h1','entry-title')\n",
    "    heading= title[0].text\n",
    "    content= article[0].text.replace('\\n',\" \")\n",
    "    \n",
    "    #priniting text files\n",
    "    \n",
    "    a=open(f'{z}.txt','w',encoding=\"utf-8\")\n",
    "    a.write(heading)\n",
    "    a.write(content)\n",
    "    a.close()\n"
   ]
  }
 ],
 "metadata": {
  "kernelspec": {
   "display_name": "Python 3",
   "language": "python",
   "name": "python3"
  },
  "language_info": {
   "codemirror_mode": {
    "name": "ipython",
    "version": 3
   },
   "file_extension": ".py",
   "mimetype": "text/x-python",
   "name": "python",
   "nbconvert_exporter": "python",
   "pygments_lexer": "ipython3",
   "version": "3.9.1"
  }
 },
 "nbformat": 4,
 "nbformat_minor": 4
}
